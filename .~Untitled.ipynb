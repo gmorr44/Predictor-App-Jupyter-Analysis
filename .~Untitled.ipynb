{
 "cells": [
  {
   "cell_type": "markdown",
   "id": "e6755333",
   "metadata": {},
   "source": [
    "### Import Libraries"
   ]
  },
  {
   "cell_type": "code",
   "execution_count": 1,
   "id": "41a86188",
   "metadata": {},
   "outputs": [],
   "source": [
    "import pandas as pd\n",
    "import numpy as np\n",
    "import sklearn as sk\n",
    "from sklearn.preprocessing import StandardScaler\n",
    "from sklearn.metrics import accuracy_score,f1_score, mean_absolute_error\n",
    "from sklearn.impute import KNNImputer\n",
    "from sklearn import ensemble\n",
    "from sklearn.model_selection import train_test_split\n",
    "from sklearn.linear_model import LinearRegression\n",
    "from sklearn.linear_model import LogisticRegression\n",
    "from sklearn.ensemble import GradientBoostingClassifier\n",
    "import matplotlib.pyplot as plt\n",
    "import joblib"
   ]
  },
  {
   "cell_type": "markdown",
   "id": "f340139d",
   "metadata": {},
   "source": [
    "### Importing .csv file into the panda dataframe."
   ]
  },
  {
   "cell_type": "code",
   "execution_count": 2,
   "id": "a0506826",
   "metadata": {},
   "outputs": [],
   "source": [
    "df = pd.read_csv(\"ncaa.csv\") #Read the .CSV file into a panda dataframe."
   ]
  },
  {
   "cell_type": "markdown",
   "id": "4876fe42",
   "metadata": {},
   "source": [
    "### Removing the following columns from the dataframe."
   ]
  },
  {
   "cell_type": "markdown",
   "id": "97f6838f",
   "metadata": {},
   "source": [
    "These columns were removed from the data frame because I wanted to evaluate a teams success based off specific performance categories."
   ]
  },
  {
   "cell_type": "code",
   "execution_count": 3,
   "id": "147a7423",
   "metadata": {},
   "outputs": [],
   "source": [
    "del df['TEAM'] \n",
    "del df['CONF'] \n",
    "del df['ADJOE'] \n",
    "del df['ADJDE']\n",
    "del df['BARTHAG']\n",
    "del df['WAB']\n",
    "del df['SEED']\n",
    "del df['YEAR']\n",
    "del df['G']\n",
    "del df['W']\n",
    "del df['EFG_O']\n",
    "del df['EFG_D']"
   ]
  },
  {
   "cell_type": "markdown",
   "id": "49a23f12",
   "metadata": {},
   "source": [
    "Checking all columns for null values. The \"POSTSEASON\" column contains 1979 null values. These null values represent the teams that didn't make it into the tournament. "
   ]
  },
  {
   "cell_type": "code",
   "execution_count": 4,
   "id": "f938d558",
   "metadata": {},
   "outputs": [
    {
     "data": {
      "text/plain": [
       "TOR              0\n",
       "TORD             0\n",
       "ORB              0\n",
       "DRB              0\n",
       "FTR              0\n",
       "FTRD             0\n",
       "2P_O             0\n",
       "2P_D             0\n",
       "3P_O             0\n",
       "3P_D             0\n",
       "ADJ_T            0\n",
       "POSTSEASON    1979\n",
       "dtype: int64"
      ]
     },
     "execution_count": 4,
     "metadata": {},
     "output_type": "execute_result"
    }
   ],
   "source": [
    "df.isnull().sum()"
   ]
  },
  {
   "cell_type": "markdown",
   "id": "b20d0637",
   "metadata": {},
   "source": [
    "### Format the POSTSEASON outcomes\n",
    "The dependant variable in my model will become a binary value.\n",
    "1 = the team took part in the NCAA basketball tournament.\n",
    "0 = The team did not make it into the tournament.  "
   ]
  },
  {
   "cell_type": "code",
   "execution_count": 5,
   "id": "7c5f9a29",
   "metadata": {},
   "outputs": [
    {
     "data": {
      "text/html": [
       "<div>\n",
       "<style scoped>\n",
       "    .dataframe tbody tr th:only-of-type {\n",
       "        vertical-align: middle;\n",
       "    }\n",
       "\n",
       "    .dataframe tbody tr th {\n",
       "        vertical-align: top;\n",
       "    }\n",
       "\n",
       "    .dataframe thead th {\n",
       "        text-align: right;\n",
       "    }\n",
       "</style>\n",
       "<table border=\"1\" class=\"dataframe\">\n",
       "  <thead>\n",
       "    <tr style=\"text-align: right;\">\n",
       "      <th></th>\n",
       "      <th>TOR</th>\n",
       "      <th>TORD</th>\n",
       "      <th>ORB</th>\n",
       "      <th>DRB</th>\n",
       "      <th>FTR</th>\n",
       "      <th>FTRD</th>\n",
       "      <th>2P_O</th>\n",
       "      <th>2P_D</th>\n",
       "      <th>3P_O</th>\n",
       "      <th>3P_D</th>\n",
       "      <th>ADJ_T</th>\n",
       "      <th>POSTSEASON</th>\n",
       "    </tr>\n",
       "  </thead>\n",
       "  <tbody>\n",
       "    <tr>\n",
       "      <th>0</th>\n",
       "      <td>15.4</td>\n",
       "      <td>18.2</td>\n",
       "      <td>40.7</td>\n",
       "      <td>30.0</td>\n",
       "      <td>32.3</td>\n",
       "      <td>30.4</td>\n",
       "      <td>53.9</td>\n",
       "      <td>44.6</td>\n",
       "      <td>32.7</td>\n",
       "      <td>36.2</td>\n",
       "      <td>71.7</td>\n",
       "      <td>1.0</td>\n",
       "    </tr>\n",
       "    <tr>\n",
       "      <th>1</th>\n",
       "      <td>12.4</td>\n",
       "      <td>15.8</td>\n",
       "      <td>32.1</td>\n",
       "      <td>23.7</td>\n",
       "      <td>36.2</td>\n",
       "      <td>22.4</td>\n",
       "      <td>54.8</td>\n",
       "      <td>44.7</td>\n",
       "      <td>36.5</td>\n",
       "      <td>37.5</td>\n",
       "      <td>59.3</td>\n",
       "      <td>1.0</td>\n",
       "    </tr>\n",
       "    <tr>\n",
       "      <th>2</th>\n",
       "      <td>14.0</td>\n",
       "      <td>19.5</td>\n",
       "      <td>25.5</td>\n",
       "      <td>24.9</td>\n",
       "      <td>30.7</td>\n",
       "      <td>30.0</td>\n",
       "      <td>54.7</td>\n",
       "      <td>46.8</td>\n",
       "      <td>35.2</td>\n",
       "      <td>33.2</td>\n",
       "      <td>65.9</td>\n",
       "      <td>1.0</td>\n",
       "    </tr>\n",
       "    <tr>\n",
       "      <th>3</th>\n",
       "      <td>17.7</td>\n",
       "      <td>22.8</td>\n",
       "      <td>27.4</td>\n",
       "      <td>28.7</td>\n",
       "      <td>32.9</td>\n",
       "      <td>36.6</td>\n",
       "      <td>52.8</td>\n",
       "      <td>41.9</td>\n",
       "      <td>36.5</td>\n",
       "      <td>29.7</td>\n",
       "      <td>67.5</td>\n",
       "      <td>1.0</td>\n",
       "    </tr>\n",
       "    <tr>\n",
       "      <th>4</th>\n",
       "      <td>16.2</td>\n",
       "      <td>17.1</td>\n",
       "      <td>30.0</td>\n",
       "      <td>26.2</td>\n",
       "      <td>39.0</td>\n",
       "      <td>26.9</td>\n",
       "      <td>56.3</td>\n",
       "      <td>40.0</td>\n",
       "      <td>38.2</td>\n",
       "      <td>29.0</td>\n",
       "      <td>71.5</td>\n",
       "      <td>1.0</td>\n",
       "    </tr>\n",
       "    <tr>\n",
       "      <th>...</th>\n",
       "      <td>...</td>\n",
       "      <td>...</td>\n",
       "      <td>...</td>\n",
       "      <td>...</td>\n",
       "      <td>...</td>\n",
       "      <td>...</td>\n",
       "      <td>...</td>\n",
       "      <td>...</td>\n",
       "      <td>...</td>\n",
       "      <td>...</td>\n",
       "      <td>...</td>\n",
       "      <td>...</td>\n",
       "    </tr>\n",
       "    <tr>\n",
       "      <th>2450</th>\n",
       "      <td>20.8</td>\n",
       "      <td>19.2</td>\n",
       "      <td>36.1</td>\n",
       "      <td>27.6</td>\n",
       "      <td>36.6</td>\n",
       "      <td>32.4</td>\n",
       "      <td>50.4</td>\n",
       "      <td>44.3</td>\n",
       "      <td>34.1</td>\n",
       "      <td>30.1</td>\n",
       "      <td>64.4</td>\n",
       "      <td>1.0</td>\n",
       "    </tr>\n",
       "    <tr>\n",
       "      <th>2451</th>\n",
       "      <td>19.5</td>\n",
       "      <td>19.8</td>\n",
       "      <td>35.0</td>\n",
       "      <td>26.7</td>\n",
       "      <td>37.4</td>\n",
       "      <td>32.9</td>\n",
       "      <td>50.6</td>\n",
       "      <td>43.4</td>\n",
       "      <td>37.1</td>\n",
       "      <td>35.8</td>\n",
       "      <td>66.8</td>\n",
       "      <td>1.0</td>\n",
       "    </tr>\n",
       "    <tr>\n",
       "      <th>2452</th>\n",
       "      <td>21.4</td>\n",
       "      <td>22.0</td>\n",
       "      <td>35.8</td>\n",
       "      <td>27.2</td>\n",
       "      <td>38.4</td>\n",
       "      <td>33.3</td>\n",
       "      <td>49.1</td>\n",
       "      <td>44.9</td>\n",
       "      <td>33.3</td>\n",
       "      <td>33.4</td>\n",
       "      <td>69.2</td>\n",
       "      <td>1.0</td>\n",
       "    </tr>\n",
       "    <tr>\n",
       "      <th>2453</th>\n",
       "      <td>17.1</td>\n",
       "      <td>21.3</td>\n",
       "      <td>29.0</td>\n",
       "      <td>34.2</td>\n",
       "      <td>31.3</td>\n",
       "      <td>28.5</td>\n",
       "      <td>49.3</td>\n",
       "      <td>50.6</td>\n",
       "      <td>37.7</td>\n",
       "      <td>30.2</td>\n",
       "      <td>66.0</td>\n",
       "      <td>1.0</td>\n",
       "    </tr>\n",
       "    <tr>\n",
       "      <th>2454</th>\n",
       "      <td>21.0</td>\n",
       "      <td>22.1</td>\n",
       "      <td>32.5</td>\n",
       "      <td>32.8</td>\n",
       "      <td>35.2</td>\n",
       "      <td>32.7</td>\n",
       "      <td>52.3</td>\n",
       "      <td>46.9</td>\n",
       "      <td>33.4</td>\n",
       "      <td>31.3</td>\n",
       "      <td>69.1</td>\n",
       "      <td>1.0</td>\n",
       "    </tr>\n",
       "  </tbody>\n",
       "</table>\n",
       "<p>2455 rows × 12 columns</p>\n",
       "</div>"
      ],
      "text/plain": [
       "       TOR  TORD   ORB   DRB   FTR  FTRD  2P_O  2P_D  3P_O  3P_D  ADJ_T  \\\n",
       "0     15.4  18.2  40.7  30.0  32.3  30.4  53.9  44.6  32.7  36.2   71.7   \n",
       "1     12.4  15.8  32.1  23.7  36.2  22.4  54.8  44.7  36.5  37.5   59.3   \n",
       "2     14.0  19.5  25.5  24.9  30.7  30.0  54.7  46.8  35.2  33.2   65.9   \n",
       "3     17.7  22.8  27.4  28.7  32.9  36.6  52.8  41.9  36.5  29.7   67.5   \n",
       "4     16.2  17.1  30.0  26.2  39.0  26.9  56.3  40.0  38.2  29.0   71.5   \n",
       "...    ...   ...   ...   ...   ...   ...   ...   ...   ...   ...    ...   \n",
       "2450  20.8  19.2  36.1  27.6  36.6  32.4  50.4  44.3  34.1  30.1   64.4   \n",
       "2451  19.5  19.8  35.0  26.7  37.4  32.9  50.6  43.4  37.1  35.8   66.8   \n",
       "2452  21.4  22.0  35.8  27.2  38.4  33.3  49.1  44.9  33.3  33.4   69.2   \n",
       "2453  17.1  21.3  29.0  34.2  31.3  28.5  49.3  50.6  37.7  30.2   66.0   \n",
       "2454  21.0  22.1  32.5  32.8  35.2  32.7  52.3  46.9  33.4  31.3   69.1   \n",
       "\n",
       "      POSTSEASON  \n",
       "0            1.0  \n",
       "1            1.0  \n",
       "2            1.0  \n",
       "3            1.0  \n",
       "4            1.0  \n",
       "...          ...  \n",
       "2450         1.0  \n",
       "2451         1.0  \n",
       "2452         1.0  \n",
       "2453         1.0  \n",
       "2454         1.0  \n",
       "\n",
       "[2455 rows x 12 columns]"
      ]
     },
     "execution_count": 5,
     "metadata": {},
     "output_type": "execute_result"
    }
   ],
   "source": [
    "df['POSTSEASON'].replace(['Champions','2ND','F4','E8','S16','R32','R64','R68',],[1,1,1,1,1,1,1,1], inplace=True)\n",
    "df"
   ]
  },
  {
   "cell_type": "code",
   "execution_count": 6,
   "id": "af2e2a43",
   "metadata": {},
   "outputs": [],
   "source": [
    "df['POSTSEASON'] = df['POSTSEASON'].fillna(0)"
   ]
  },
  {
   "cell_type": "code",
   "execution_count": 7,
   "id": "d73e0431",
   "metadata": {},
   "outputs": [
    {
     "data": {
      "text/plain": [
       "TOR           0\n",
       "TORD          0\n",
       "ORB           0\n",
       "DRB           0\n",
       "FTR           0\n",
       "FTRD          0\n",
       "2P_O          0\n",
       "2P_D          0\n",
       "3P_O          0\n",
       "3P_D          0\n",
       "ADJ_T         0\n",
       "POSTSEASON    0\n",
       "dtype: int64"
      ]
     },
     "execution_count": 7,
     "metadata": {},
     "output_type": "execute_result"
    }
   ],
   "source": [
    "df.isnull().sum()"
   ]
  },
  {
   "cell_type": "markdown",
   "id": "1416ad10",
   "metadata": {},
   "source": [
    "### Splitting the dataframe into x and y values. X = independant variable  and y = dependant variable"
   ]
  },
  {
   "cell_type": "code",
   "execution_count": 8,
   "id": "d14334bf",
   "metadata": {},
   "outputs": [],
   "source": [
    "y = df['POSTSEASON']\n",
    "X = df.drop('POSTSEASON', axis=1)"
   ]
  },
  {
   "cell_type": "markdown",
   "id": "07d0c501",
   "metadata": {},
   "source": [
    "### The data will be split into training and test data. 80% to test the model and 20% to test the model."
   ]
  },
  {
   "cell_type": "code",
   "execution_count": 9,
   "id": "128b680f",
   "metadata": {},
   "outputs": [],
   "source": [
    "X_train, X_test, y_train, y_test = train_test_split(X, y, train_size=0.8, shuffle=True, random_state=1)"
   ]
  },
  {
   "cell_type": "markdown",
   "id": "50d1d3c3",
   "metadata": {},
   "source": [
    "### Fitting the model with the Gradient Boosting Classifier using the training data."
   ]
  },
  {
   "cell_type": "code",
   "execution_count": 10,
   "id": "98f4a80e",
   "metadata": {},
   "outputs": [
    {
     "data": {
      "text/plain": [
       "['trainedBasketballModel.pkl']"
      ]
     },
     "execution_count": 10,
     "metadata": {},
     "output_type": "execute_result"
    }
   ],
   "source": [
    "gb_model = GradientBoostingClassifier(n_estimators=200, learning_rate=1.0,max_depth=1, random_state=1)\n",
    "\n",
    "gb_model.fit(X_train, y_train)\n",
    "joblib.dump(gb_model, 'trainedBasketballModel.pkl')"
   ]
  },
  {
   "cell_type": "code",
   "execution_count": 11,
   "id": "f61df429",
   "metadata": {},
   "outputs": [
    {
     "data": {
      "text/plain": [
       "0.879837067209776"
      ]
     },
     "execution_count": 11,
     "metadata": {},
     "output_type": "execute_result"
    }
   ],
   "source": [
    "gb_model.score(X_test, y_test)"
   ]
  },
  {
   "cell_type": "code",
   "execution_count": 12,
   "id": "5f6bb494",
   "metadata": {},
   "outputs": [
    {
     "name": "stdout",
     "output_type": "stream",
     "text": [
      "Model performance Results Are:\n",
      "\n",
      "algorithm Accuracy: 87.984%\n",
      "\t\t\t\t\n",
      "          F1-Score: 0.62420\n"
     ]
    }
   ],
   "source": [
    "print('Model performance Results Are:')\n",
    "y_pred = gb_model.predict(X_test)\n",
    "print(\"\\n\"\"algorithm Accuracy: {:.3f}%\\n\\t\\t\\t\\t\" \"\\n\" \"          F1-Score: {:.5f}\"\\\n",
    ".format(accuracy_score(y_test, y_pred)*100, f1_score(y_test, y_pred)))"
   ]
  },
  {
   "cell_type": "code",
   "execution_count": 13,
   "id": "f3f0d812",
   "metadata": {},
   "outputs": [],
   "source": [
    "y_pred = gb_model.predict(X_test)\n"
   ]
  },
  {
   "cell_type": "code",
   "execution_count": 15,
   "id": "54e83176",
   "metadata": {},
   "outputs": [
    {
     "name": "stdout",
     "output_type": "stream",
     "text": [
      "[0.20589722 0.04662086 0.08793696 0.01340298 0.03090161 0.03534728\n",
      " 0.15577098 0.25734129 0.05869591 0.07652902 0.03155588]\n",
      "0.20589721741442374\n",
      "0.2525180763437952\n",
      "0.34045503472108657\n",
      "0.3538580187706835\n",
      "0.3847596327672589\n",
      "0.4201069159214752\n",
      "0.5758778977020926\n",
      "0.8332191899044288\n",
      "0.891915102583626\n",
      "0.9684441188489707\n",
      "0.9999999999999999\n"
     ]
    }
   ],
   "source": [
    "feature_importance = gb_model.feature_importances_\n",
    "print(feature_importance)\n",
    "\n",
    "    \n"
   ]
  },
  {
   "cell_type": "code",
   "execution_count": null,
   "id": "1a01888a",
   "metadata": {},
   "outputs": [],
   "source": [
    "y_test.head(30)"
   ]
  },
  {
   "cell_type": "code",
   "execution_count": null,
   "id": "22808450",
   "metadata": {},
   "outputs": [],
   "source": [
    "\n",
    "model = joblib.load('trainedBasketballModel.pkl')\n",
    "#model = gb_model\n",
    "\n",
    "Season_Path = [\n",
    "\n",
    "19.3,     # Turnover Percentage Allowed  **Offense\n",
    "15.8,     # Turnover Percentage Committed  **Defense\n",
    "33.6,     # Offense Rebounds Rate  **Offense\n",
    "31.6,     # Offense Rebounds Rate Allowed  **Defense\n",
    "49.3,     # Free Throw Rate  **Offense\n",
    "29.8,     # Free Throw Rate Allowed  **Defense\n",
    "55.7,     # 2-Point Shooting Percentage  **Offense\n",
    "48.9,     # 2-Point Shooting Percentage Allowed **Defense\n",
    "35.8,     # 3-Point Shooting Percentage  **Offense\n",
    "35.6,     # 3-Point Shooting Percentage Allowed  **Defense\n",
    "67.6      # Adjusted Tempo(quantity of possesions per 40 minutes)\n",
    "    \n",
    "]\n",
    "\n",
    "outlooks = [\n",
    "    Season_Path\n",
    "]\n",
    "\n",
    "#19.3\t15.8\t33.6\t31.2\t49.3\t29.8\t50.7\t48.9\t35.8\t35.6\t67.6\n",
    "predicted_season_outlook = model.predict(outlooks)\n",
    "\n",
    "predicted_outlook = predicted_season_outlook[0]\n",
    "\n",
    "\n",
    "print('**************Playoff Possibility: %.1f******************' % predicted_outlook)"
   ]
  },
  {
   "cell_type": "code",
   "execution_count": null,
   "id": "7db42bd2",
   "metadata": {},
   "outputs": [],
   "source": []
  },
  {
   "cell_type": "code",
   "execution_count": null,
   "id": "9c5977a3",
   "metadata": {},
   "outputs": [],
   "source": []
  },
  {
   "cell_type": "code",
   "execution_count": null,
   "id": "930122a5",
   "metadata": {},
   "outputs": [],
   "source": []
  },
  {
   "cell_type": "code",
   "execution_count": null,
   "id": "5f19a428",
   "metadata": {},
   "outputs": [],
   "source": []
  }
 ],
 "metadata": {
  "kernelspec": {
   "display_name": "Python 3",
   "language": "python",
   "name": "python3"
  },
  "language_info": {
   "codemirror_mode": {
    "name": "ipython",
    "version": 3
   },
   "file_extension": ".py",
   "mimetype": "text/x-python",
   "name": "python",
   "nbconvert_exporter": "python",
   "pygments_lexer": "ipython3",
   "version": "3.9.4"
  }
 },
 "nbformat": 4,
 "nbformat_minor": 5
}
